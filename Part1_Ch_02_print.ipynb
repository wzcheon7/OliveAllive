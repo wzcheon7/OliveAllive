{
  "nbformat": 4,
  "nbformat_minor": 0,
  "metadata": {
    "colab": {
      "provenance": [],
      "toc_visible": true,
      "authorship_tag": "ABX9TyOTqO1v5TN6F7BB8EtHLa+h",
      "include_colab_link": true
    },
    "kernelspec": {
      "name": "python3",
      "display_name": "Python 3"
    },
    "language_info": {
      "name": "python"
    }
  },
  "cells": [
    {
      "cell_type": "markdown",
      "metadata": {
        "id": "view-in-github",
        "colab_type": "text"
      },
      "source": [
        "<a href=\"https://colab.research.google.com/github/wzcheon7/OliveAllive/blob/main/Part1_Ch_02_print.ipynb\" target=\"_parent\"><img src=\"https://colab.research.google.com/assets/colab-badge.svg\" alt=\"Open In Colab\"/></a>"
      ]
    },
    {
      "cell_type": "markdown",
      "source": [
        "# print 기능"
      ],
      "metadata": {
        "id": "nbcnGhm7JDX2"
      }
    },
    {
      "cell_type": "code",
      "source": [
        "a = [ ]\n",
        "b = [1,2,3]\n",
        "c = ['Coding', 'is', 'not', 'difficult']\n",
        "d = [1, 2, 'Math', 'Coding']\n",
        "e = [1, 2, ['Math', 'Coding']]"
      ],
      "metadata": {
        "id": "SEF3PIdTJMHf"
      },
      "execution_count": null,
      "outputs": []
    },
    {
      "cell_type": "code",
      "source": [
        "b"
      ],
      "metadata": {
        "colab": {
          "base_uri": "https://localhost:8080/"
        },
        "id": "sZ5OpRzaJnBt",
        "outputId": "0a179321-2e0e-4b41-b731-f197af167e75"
      },
      "execution_count": null,
      "outputs": [
        {
          "output_type": "execute_result",
          "data": {
            "text/plain": [
              "[1, 2, 3]"
            ]
          },
          "metadata": {},
          "execution_count": 3
        }
      ]
    },
    {
      "cell_type": "code",
      "source": [
        "a\n",
        "b\n",
        "c\n",
        "d\n",
        "e"
      ],
      "metadata": {
        "colab": {
          "base_uri": "https://localhost:8080/"
        },
        "id": "cjuQydbjJ8NP",
        "outputId": "1e1a14d7-6cb1-4e54-a7fe-4020ed555e48"
      },
      "execution_count": null,
      "outputs": [
        {
          "output_type": "execute_result",
          "data": {
            "text/plain": [
              "[1, 2, ['Math', 'Coding']]"
            ]
          },
          "metadata": {},
          "execution_count": 4
        }
      ]
    },
    {
      "cell_type": "markdown",
      "source": [
        "개발 도구 (예를 들면, Jupiter notebook)를 이용해서 위에와 같이 여러 줄을 입력하면 마지막에 실행될 때만 결과 값을 보여 줍니다."
      ],
      "metadata": {
        "id": "6NPyWMUxKDke"
      }
    },
    {
      "cell_type": "markdown",
      "source": [
        "정확하게 원하는 값을 출력을 하려면, print(출력할 변수) 를 써야 합니다."
      ],
      "metadata": {
        "id": "98qkvlwaKcY0"
      }
    },
    {
      "cell_type": "code",
      "source": [
        "print(a)\n",
        "print(b)\n",
        "print(c)\n",
        "print(d)\n",
        "print(e)"
      ],
      "metadata": {
        "colab": {
          "base_uri": "https://localhost:8080/"
        },
        "id": "ARUBXkLdKouO",
        "outputId": "9aae3876-8151-45b2-95c8-30906808b1d0"
      },
      "execution_count": null,
      "outputs": [
        {
          "output_type": "stream",
          "name": "stdout",
          "text": [
            "[]\n",
            "[1, 2, 3]\n",
            "['Coding', 'is', 'not', 'difficult']\n",
            "[1, 2, 'Math', 'Coding']\n",
            "[1, 2, ['Math', 'Coding']]\n"
          ]
        }
      ]
    },
    {
      "cell_type": "markdown",
      "source": [
        "또한, 프린트 안에 원하는 문장을 출력할 수도 있습니다. 이때 따옴표 '문장'형태로 사용하면 됩니다."
      ],
      "metadata": {
        "id": "4YUJ6JaNKx0m"
      }
    },
    {
      "cell_type": "code",
      "source": [
        "print('Coding is easy')"
      ],
      "metadata": {
        "colab": {
          "base_uri": "https://localhost:8080/"
        },
        "id": "MejfWlmvKxqF",
        "outputId": "03df6274-edba-4520-8f3c-b1d5c9193e7f"
      },
      "execution_count": null,
      "outputs": [
        {
          "output_type": "stream",
          "name": "stdout",
          "text": [
            "Coding is easy\n"
          ]
        }
      ]
    },
    {
      "cell_type": "markdown",
      "source": [
        "이 print 명령어를 이용하여 숫자, 변수를 포함하는 문장을 보여줄 수 있습니다. "
      ],
      "metadata": {
        "id": "IiBDXtnrBNXf"
      }
    },
    {
      "cell_type": "code",
      "source": [
        "a = 3\n",
        "print('a는 {} 이다. '.format(a))"
      ],
      "metadata": {
        "colab": {
          "base_uri": "https://localhost:8080/"
        },
        "id": "OfQhDQ9IBdzY",
        "outputId": "0915c362-f342-4f6c-eedc-3f2583435605"
      },
      "execution_count": 1,
      "outputs": [
        {
          "output_type": "stream",
          "name": "stdout",
          "text": [
            "a는 3 이다. \n"
          ]
        }
      ]
    },
    {
      "cell_type": "code",
      "source": [
        "a = 1\n",
        "print('a는 {} 이다. '.format(a))"
      ],
      "metadata": {
        "colab": {
          "base_uri": "https://localhost:8080/"
        },
        "id": "idEt7ivhBrws",
        "outputId": "b7710e3d-b301-478c-90ba-3a23035403e8"
      },
      "execution_count": 2,
      "outputs": [
        {
          "output_type": "stream",
          "name": "stdout",
          "text": [
            "a는 1 이다. \n"
          ]
        }
      ]
    },
    {
      "cell_type": "markdown",
      "source": [
        "자기 소개를 할 때도 쓰일 수 있습니다."
      ],
      "metadata": {
        "id": "vv2lgaRtByDL"
      }
    },
    {
      "cell_type": "code",
      "source": [
        "number = 180\n",
        "print ('나의 키는 {} cm이다.'.format(number))"
      ],
      "metadata": {
        "colab": {
          "base_uri": "https://localhost:8080/"
        },
        "id": "ssJWkmROB2QI",
        "outputId": "b0b91761-3170-474e-87a7-32a04f2a80dd"
      },
      "execution_count": 3,
      "outputs": [
        {
          "output_type": "stream",
          "name": "stdout",
          "text": [
            "나의 키는 180 cm이다.\n"
          ]
        }
      ]
    },
    {
      "cell_type": "markdown",
      "source": [
        "# 퀴즈1 자기 소개하기\n",
        "나는 '몇'학년 '몇'반의 '누구'입니다. 를 표현해볼까요?\n",
        "* 힌트\n",
        "- 몇 학년 의 변수: grade\n",
        "- 몇 반의 변수: classes\n",
        "- 누구의 변수: who"
      ],
      "metadata": {
        "id": "m_aCmrpCCFjD"
      }
    },
    {
      "cell_type": "code",
      "source": [
        "grade = 3\n",
        "classes = 1\n",
        "who = '천원주'\n",
        "print('나는 {}학년 {}반의 {}입니다.'.format(grade, classes, who))"
      ],
      "metadata": {
        "colab": {
          "base_uri": "https://localhost:8080/"
        },
        "id": "fUnWBe38Dn1j",
        "outputId": "9da6929a-4fe9-47c7-9211-ea859fa9c891"
      },
      "execution_count": 4,
      "outputs": [
        {
          "output_type": "stream",
          "name": "stdout",
          "text": [
            "나는 3학년 1반의 천원주입니다.\n"
          ]
        }
      ]
    },
    {
      "cell_type": "code",
      "source": [
        "a = 3\n",
        "b = '더하기'\n",
        "c = 4\n",
        "d = '은'\n",
        "e = 7\n",
        "f = '이다'\n",
        "print('{} {} {} {} {} {}'.format(a,b,c,d,e,f))"
      ],
      "metadata": {
        "colab": {
          "base_uri": "https://localhost:8080/"
        },
        "id": "OR_AfywWEns8",
        "outputId": "8d2f543d-fdac-4b27-a858-32668cc46c1b"
      },
      "execution_count": 5,
      "outputs": [
        {
          "output_type": "stream",
          "name": "stdout",
          "text": [
            "3 더하기 4 은 7 이다\n"
          ]
        }
      ]
    }
  ]
}